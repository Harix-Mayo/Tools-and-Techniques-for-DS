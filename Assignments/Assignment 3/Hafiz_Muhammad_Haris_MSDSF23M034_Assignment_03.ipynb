{
 "cells": [
  {
   "cell_type": "markdown",
   "id": "97dd878a",
   "metadata": {},
   "source": [
    "### Assignment-03 (Strings)\n",
    "- Change the notebook name with your name and Roll Number.\n",
    "- Try this as your own, no chatgpt (it's for your learning)\n",
    "- after completing the assignment, submit this book on google class room."
   ]
  },
  {
   "cell_type": "markdown",
   "id": "e2bd2715",
   "metadata": {},
   "source": [
    "Create a string variable with your name and print it.\n"
   ]
  },
  {
   "cell_type": "code",
   "execution_count": 100,
   "id": "bb419df7",
   "metadata": {},
   "outputs": [
    {
     "name": "stdout",
     "output_type": "stream",
     "text": [
      "Name:  Hafiz Muhammd Haris\n"
     ]
    }
   ],
   "source": [
    "name = \"Hafiz Muhammd Haris\"\n",
    "print ('Name: ' , name)"
   ]
  },
  {
   "cell_type": "markdown",
   "id": "038709aa",
   "metadata": {},
   "source": [
    "Define a multiline string that includes line breaks and print it.\n"
   ]
  },
  {
   "cell_type": "code",
   "execution_count": 101,
   "id": "707d597b",
   "metadata": {},
   "outputs": [
    {
     "name": "stdout",
     "output_type": "stream",
     "text": [
      " My name is haris.\n",
      "My roll no is MSDSF23M034\n",
      "I am a student of MSDS in PUCIT.\n",
      "\n"
     ]
    }
   ],
   "source": [
    "multiline_string = \"\"\" My name is haris.\n",
    "My roll no is MSDSF23M034\n",
    "I am a student of MSDS in PUCIT.\n",
    "\"\"\"\n",
    "print (multiline_string)"
   ]
  },
  {
   "cell_type": "markdown",
   "id": "0c79c559",
   "metadata": {},
   "source": [
    "Access the first character of a string.\n"
   ]
  },
  {
   "cell_type": "code",
   "execution_count": 102,
   "id": "3dd571a7",
   "metadata": {},
   "outputs": [
    {
     "name": "stdout",
     "output_type": "stream",
     "text": [
      "String:  Hello World!\n",
      "First Character:  H\n"
     ]
    }
   ],
   "source": [
    "string = 'Hello World!'\n",
    "print ('String: ' , string)\n",
    "first_ch = string[0] # 'H' will assign\n",
    "print ('First Character: ' , first_ch)"
   ]
  },
  {
   "cell_type": "markdown",
   "id": "eea487fc",
   "metadata": {},
   "source": [
    "Access the last character of a string.\n"
   ]
  },
  {
   "cell_type": "code",
   "execution_count": 103,
   "id": "3efc26a3",
   "metadata": {},
   "outputs": [
    {
     "name": "stdout",
     "output_type": "stream",
     "text": [
      "String:  Hello World!\n",
      "Last Character:  !\n"
     ]
    }
   ],
   "source": [
    "string = 'Hello World!'\n",
    "print ('String: ' , string)\n",
    "last_ch = string[-1] # 'd' will assign. \n",
    "print ('Last Character: ' , last_ch)"
   ]
  },
  {
   "cell_type": "markdown",
   "id": "eafa1f78",
   "metadata": {},
   "source": [
    "Access the second to the fifth character of a string."
   ]
  },
  {
   "cell_type": "code",
   "execution_count": 104,
   "id": "1a183435",
   "metadata": {},
   "outputs": [
    {
     "name": "stdout",
     "output_type": "stream",
     "text": [
      "String:  Hello World!\n",
      "Second to Fifth Characters:  ello\n"
     ]
    }
   ],
   "source": [
    "string = 'Hello World!'\n",
    "print ('String: ' , string)\n",
    "second_to_fifth_ch = string[1:5]\n",
    "print ('Second to Fifth Characters: ' , second_to_fifth_ch)"
   ]
  },
  {
   "cell_type": "markdown",
   "id": "345dabe1",
   "metadata": {},
   "source": [
    "Attempt to change a character within an existing string and explain the result.\n"
   ]
  },
  {
   "cell_type": "code",
   "execution_count": 11,
   "id": "4a2c3c34",
   "metadata": {},
   "outputs": [
    {
     "ename": "TypeError",
     "evalue": "'str' object does not support item assignment",
     "output_type": "error",
     "traceback": [
      "\u001b[1;31m---------------------------------------------------------------------------\u001b[0m",
      "\u001b[1;31mTypeError\u001b[0m                                 Traceback (most recent call last)",
      "Cell \u001b[1;32mIn[11], line 2\u001b[0m\n\u001b[0;32m      1\u001b[0m string \u001b[38;5;241m=\u001b[39m \u001b[38;5;124m'\u001b[39m\u001b[38;5;124mHello World\u001b[39m\u001b[38;5;124m'\u001b[39m\n\u001b[1;32m----> 2\u001b[0m string[\u001b[38;5;241m0\u001b[39m] \u001b[38;5;241m=\u001b[39m \u001b[38;5;124m'\u001b[39m\u001b[38;5;124mP\u001b[39m\u001b[38;5;124m'\u001b[39m\n",
      "\u001b[1;31mTypeError\u001b[0m: 'str' object does not support item assignment"
     ]
    }
   ],
   "source": [
    "string = 'Hello World'\n",
    "string[0] = 'P'\n",
    "\n",
    "# This is because String are Immutable "
   ]
  },
  {
   "cell_type": "markdown",
   "id": "915097a4",
   "metadata": {},
   "source": [
    "\n",
    "Slice a string to obtain the first 3 characters.\n"
   ]
  },
  {
   "cell_type": "code",
   "execution_count": 105,
   "id": "eeafdee2",
   "metadata": {},
   "outputs": [
    {
     "name": "stdout",
     "output_type": "stream",
     "text": [
      "String:  Hello World\n",
      "First Three Characters:  Hel\n"
     ]
    }
   ],
   "source": [
    "string = 'Hello World'\n",
    "print ('String: ' , string)\n",
    "first_three_ch = string[:3] # Return first three character\n",
    "print ('First Three Characters: ' , first_three_ch)"
   ]
  },
  {
   "cell_type": "markdown",
   "id": "97f70e4d",
   "metadata": {},
   "source": [
    "Slice a string to obtain the last 4 characters.\n"
   ]
  },
  {
   "cell_type": "code",
   "execution_count": 106,
   "id": "cd07247a",
   "metadata": {},
   "outputs": [
    {
     "name": "stdout",
     "output_type": "stream",
     "text": [
      "String:  Hello World\n",
      "Last Four Characters:  orld\n"
     ]
    }
   ],
   "source": [
    "string = 'Hello World'\n",
    "print ('String: ' , string)\n",
    "last_four_ch = string[-4:] \n",
    "print (\"Last Four Characters: \" , last_four_ch)"
   ]
  },
  {
   "cell_type": "markdown",
   "id": "db421ce3",
   "metadata": {},
   "source": [
    "Slice a string to get every second character.\n"
   ]
  },
  {
   "cell_type": "code",
   "execution_count": 107,
   "id": "a8b066a6",
   "metadata": {},
   "outputs": [
    {
     "name": "stdout",
     "output_type": "stream",
     "text": [
      "String:  HelloWorld\n",
      "Every Second Elements:  elWrd\n"
     ]
    }
   ],
   "source": [
    "string = 'HelloWorld'\n",
    "print ('String: ' , string)\n",
    "print (\"Every Second Elements: \" , string[1::2])  # string[start_index:end_index:steps]"
   ]
  },
  {
   "cell_type": "markdown",
   "id": "ff5b4751",
   "metadata": {},
   "source": [
    "Reverse a string using slicing."
   ]
  },
  {
   "cell_type": "code",
   "execution_count": 108,
   "id": "c4c4c969",
   "metadata": {},
   "outputs": [
    {
     "name": "stdout",
     "output_type": "stream",
     "text": [
      "Before Reverse:  Hello World\n",
      "After Reverse:  dlroW olleH\n"
     ]
    }
   ],
   "source": [
    "string = 'Hello World'\n",
    "print (\"Before Reverse: \" , string)\n",
    "string = string[-1::-1]\n",
    "print (\"After Reverse: \" , string)"
   ]
  },
  {
   "cell_type": "markdown",
   "id": "c8b7f82a",
   "metadata": {},
   "source": [
    "Create two string variables and concatenate them.\n",
    "\n"
   ]
  },
  {
   "cell_type": "code",
   "execution_count": 109,
   "id": "c4d4f5ae",
   "metadata": {},
   "outputs": [
    {
     "name": "stdout",
     "output_type": "stream",
     "text": [
      "Name:  HarisMayo\n"
     ]
    }
   ],
   "source": [
    "first_name = 'Haris'\n",
    "last_name = 'Mayo'\n",
    "name = first_name + last_name\n",
    "\n",
    "print ('Name: ' , name)"
   ]
  },
  {
   "cell_type": "markdown",
   "id": "13e8d4b1",
   "metadata": {},
   "source": [
    "Concatenate a string with a number (convert the number to a string first)."
   ]
  },
  {
   "cell_type": "code",
   "execution_count": 91,
   "id": "cc366c5e",
   "metadata": {},
   "outputs": [
    {
     "name": "stdout",
     "output_type": "stream",
     "text": [
      "Roll No:  MSDSF23M034\n"
     ]
    }
   ],
   "source": [
    "string = 'MSDSF23M0'\n",
    "num = 34 \n",
    "roll_no = string + str(num)\n",
    "print ('Roll No: ' , roll_no)"
   ]
  },
  {
   "cell_type": "markdown",
   "id": "201b3886",
   "metadata": {},
   "source": [
    "Generate a string that repeats \"abc\" 10 times.\n",
    "\n"
   ]
  },
  {
   "cell_type": "code",
   "execution_count": 110,
   "id": "01d068c1",
   "metadata": {},
   "outputs": [
    {
     "name": "stdout",
     "output_type": "stream",
     "text": [
      "String:  abc\n",
      "Result:  abcabcabcabcabcabcabcabcabcabc\n"
     ]
    }
   ],
   "source": [
    "string = 'abc'\n",
    "print ('String: ' , string)\n",
    "print ('Result: ' , string * 10)"
   ]
  },
  {
   "cell_type": "markdown",
   "id": "c668c12f",
   "metadata": {},
   "source": [
    "Create a string containing a repeating pattern of your choice."
   ]
  },
  {
   "cell_type": "code",
   "execution_count": 115,
   "id": "948db73c",
   "metadata": {},
   "outputs": [
    {
     "name": "stdout",
     "output_type": "stream",
     "text": [
      "String:  abc\n",
      "How many times string repeat: 6\n",
      "Result:  abcabcabcabcabcabc\n"
     ]
    }
   ],
   "source": [
    "string = 'abc'\n",
    "print ('String: ' , string)\n",
    "num = int(input('How many times string repeat: '))\n",
    "print ('Result: ' , string * num)"
   ]
  },
  {
   "cell_type": "markdown",
   "id": "597fce86",
   "metadata": {},
   "source": [
    "Convert a string to lowercase using the lower() method.\n"
   ]
  },
  {
   "cell_type": "code",
   "execution_count": 116,
   "id": "091297bd",
   "metadata": {},
   "outputs": [
    {
     "name": "stdout",
     "output_type": "stream",
     "text": [
      "String:  I am PaKISTani.\n",
      "Lowercase:  i am pakistani.\n"
     ]
    }
   ],
   "source": [
    "string = \"I am PaKISTani.\"\n",
    "print ('String: ' , string)\n",
    "print ('Lowercase: ' , string.lower())"
   ]
  },
  {
   "cell_type": "markdown",
   "id": "e96bb408",
   "metadata": {},
   "source": [
    "\n",
    "Convert a string to uppercase using the upper() method.\n"
   ]
  },
  {
   "cell_type": "code",
   "execution_count": 117,
   "id": "a2598fc3",
   "metadata": {},
   "outputs": [
    {
     "name": "stdout",
     "output_type": "stream",
     "text": [
      "String:  I am PaKISTani.\n",
      "Uppercase:  I AM PAKISTANI.\n"
     ]
    }
   ],
   "source": [
    "string = \"I am PaKISTani.\"\n",
    "print ('String: ' , string)\n",
    "print ('Uppercase: ' , string.upper())"
   ]
  },
  {
   "cell_type": "markdown",
   "id": "92ab5b20",
   "metadata": {},
   "source": [
    "Remove leading and trailing whitespace from a string using the strip() method.\n"
   ]
  },
  {
   "cell_type": "code",
   "execution_count": 118,
   "id": "0507e93a",
   "metadata": {},
   "outputs": [
    {
     "name": "stdout",
     "output_type": "stream",
     "text": [
      "Before Striping:           I am PaKISTani.          \n",
      "After Striping:  I am PaKISTani.\n"
     ]
    }
   ],
   "source": [
    "string = \"         I am PaKISTani.          \"\n",
    "print ('Before Striping: ' , string)\n",
    "print ('After Striping: ' , string.strip())"
   ]
  },
  {
   "cell_type": "markdown",
   "id": "a91e7489",
   "metadata": {},
   "source": [
    "Check if a string starts with a specific prefix using the startswith() method.\n"
   ]
  },
  {
   "cell_type": "code",
   "execution_count": 120,
   "id": "3c01dd7d",
   "metadata": {},
   "outputs": [
    {
     "name": "stdout",
     "output_type": "stream",
     "text": [
      "True\n",
      "False\n"
     ]
    }
   ],
   "source": [
    "qoute = \"Albert Einstein said: You cannot solve a problem with the same mind that created it.\"\n",
    "print (qoute.startswith('Albert Einstein'))\n",
    "print (qoute.startswith('Newton'))"
   ]
  },
  {
   "cell_type": "markdown",
   "id": "4b8b4581",
   "metadata": {},
   "source": [
    "Split a string into a list of words using the split() method.\n"
   ]
  },
  {
   "cell_type": "code",
   "execution_count": 121,
   "id": "5bcc4070",
   "metadata": {},
   "outputs": [
    {
     "name": "stdout",
     "output_type": "stream",
     "text": [
      "String:  Punjab is a province of Pakistan\n",
      "List:  ['Punjab', 'is', 'a', 'province', 'of', 'Pakistan']\n"
     ]
    }
   ],
   "source": [
    "string = 'Punjab is a province of Pakistan'\n",
    "print ('String: ' , string)\n",
    "list1 = string.split()\n",
    "print ('List: ' , list1)\n"
   ]
  },
  {
   "cell_type": "markdown",
   "id": "37dd8ff8",
   "metadata": {},
   "source": [
    "Join a list of words into a single string using the join() method."
   ]
  },
  {
   "cell_type": "code",
   "execution_count": 123,
   "id": "473860cd",
   "metadata": {},
   "outputs": [
    {
     "name": "stdout",
     "output_type": "stream",
     "text": [
      "List:  ['GOD', 'is', 'One']\n",
      "String:  GOD is One\n"
     ]
    }
   ],
   "source": [
    "# join is the inverse of split\n",
    "list2 = ['GOD','is','One']\n",
    "print ('List: ' , list2)\n",
    "delimiter = ' '\n",
    "string = delimiter.join(list2)\n",
    "print('String: ' , string)"
   ]
  },
  {
   "cell_type": "code",
   "execution_count": null,
   "id": "1af3ae45",
   "metadata": {},
   "outputs": [],
   "source": []
  }
 ],
 "metadata": {
  "kernelspec": {
   "display_name": "Python 3 (ipykernel)",
   "language": "python",
   "name": "python3"
  },
  "language_info": {
   "codemirror_mode": {
    "name": "ipython",
    "version": 3
   },
   "file_extension": ".py",
   "mimetype": "text/x-python",
   "name": "python",
   "nbconvert_exporter": "python",
   "pygments_lexer": "ipython3",
   "version": "3.11.5"
  }
 },
 "nbformat": 4,
 "nbformat_minor": 5
}
