{
 "cells": [
  {
   "cell_type": "markdown",
   "id": "48147901",
   "metadata": {},
   "source": [
    "### Assignment-04 (List)\n",
    "- Change the notebook name with your name and Roll Number.\n",
    "- Try this as your own, no chatgpt (it's for your learning)\n",
    "- after completing the assignment, submit this book on google class room."
   ]
  },
  {
   "cell_type": "markdown",
   "id": "4a0551ca",
   "metadata": {},
   "source": [
    "Create an empty list and print it.\n"
   ]
  },
  {
   "cell_type": "code",
   "execution_count": 2,
   "id": "d2923b71",
   "metadata": {},
   "outputs": [
    {
     "name": "stdout",
     "output_type": "stream",
     "text": [
      "Empty List:  []\n"
     ]
    }
   ],
   "source": [
    "empty_list = []\n",
    "print (\"Empty List: \" , empty_list)"
   ]
  },
  {
   "cell_type": "markdown",
   "id": "fa6b638e",
   "metadata": {},
   "source": [
    "Create a list of your favorite colors and print it.\n"
   ]
  },
  {
   "cell_type": "code",
   "execution_count": 3,
   "id": "c549875c",
   "metadata": {},
   "outputs": [
    {
     "name": "stdout",
     "output_type": "stream",
     "text": [
      "Favourite Colors:  ['Black', 'White', 'Rust']\n"
     ]
    }
   ],
   "source": [
    "fav_colors = ['Black' , 'White' , 'Rust']\n",
    "print ('Favourite Colors: ' , fav_colors)"
   ]
  },
  {
   "cell_type": "markdown",
   "id": "4a1371d4",
   "metadata": {},
   "source": [
    "Create a list that includes a mix of data types (integers, strings, floats).\n"
   ]
  },
  {
   "cell_type": "code",
   "execution_count": 4,
   "id": "dfc878e2",
   "metadata": {},
   "outputs": [
    {
     "name": "stdout",
     "output_type": "stream",
     "text": [
      "Mix List:  [29, 'Haris', 5.1]\n"
     ]
    }
   ],
   "source": [
    "mix_list = [29 , 'Haris' , 5.10]\n",
    "print ('Mix List: ' , mix_list)"
   ]
  },
  {
   "cell_type": "markdown",
   "id": "2916cde7",
   "metadata": {},
   "source": [
    "Access the first element of a list.\n"
   ]
  },
  {
   "cell_type": "code",
   "execution_count": 5,
   "id": "a0a7b3d2",
   "metadata": {},
   "outputs": [
    {
     "name": "stdout",
     "output_type": "stream",
     "text": [
      "List:  [1, 3, 5, 6, 7]\n",
      "First Element:  1\n"
     ]
    }
   ],
   "source": [
    "int_list = [1 , 3 , 5 , 6 , 7]\n",
    "print ('List: ' , int_list)\n",
    "print ('First Element: ' , int_list[0])"
   ]
  },
  {
   "cell_type": "markdown",
   "id": "13b39ea7",
   "metadata": {},
   "source": [
    "Access the last element of a list."
   ]
  },
  {
   "cell_type": "code",
   "execution_count": 6,
   "id": "4f8cf5da",
   "metadata": {},
   "outputs": [
    {
     "name": "stdout",
     "output_type": "stream",
     "text": [
      "List:  [1, 3, 5, 6, 7]\n",
      "Last Element:  7\n"
     ]
    }
   ],
   "source": [
    "int_list = [1 , 3 , 5 , 6 , 7]\n",
    "print ('List: ' , int_list)\n",
    "print ('Last Element: ' , int_list[-1])"
   ]
  },
  {
   "cell_type": "markdown",
   "id": "ef7e0f8d",
   "metadata": {},
   "source": [
    " Access the second and third elements of a list.\n"
   ]
  },
  {
   "cell_type": "code",
   "execution_count": 7,
   "id": "e215ceed",
   "metadata": {},
   "outputs": [
    {
     "name": "stdout",
     "output_type": "stream",
     "text": [
      "List:  [1, 3, 5, 6, 7]\n",
      "Second and Third Element:  [3, 5]\n"
     ]
    }
   ],
   "source": [
    "int_list = [1 , 3 , 5 , 6 , 7]\n",
    "print ('List: ' , int_list)\n",
    "print ('Second and Third Element: ' , int_list[1:3])"
   ]
  },
  {
   "cell_type": "markdown",
   "id": "16ef79f1",
   "metadata": {},
   "source": [
    "\n",
    "Slice a list to extract the first three elements.\n"
   ]
  },
  {
   "cell_type": "code",
   "execution_count": 89,
   "id": "86d94d3c",
   "metadata": {},
   "outputs": [
    {
     "name": "stdout",
     "output_type": "stream",
     "text": [
      "List:  [1, 3, 5, 6, 7]\n",
      "First Three Elements:  [1, 3, 5]\n"
     ]
    }
   ],
   "source": [
    "int_list = [1 , 3 , 5 , 6 , 7]\n",
    "print ('List: ' , int_list)\n",
    "print ('First Three Elements: ' , int_list[:3])"
   ]
  },
  {
   "cell_type": "markdown",
   "id": "717afad5",
   "metadata": {},
   "source": [
    "Slice a list to extract the last three elements.\n"
   ]
  },
  {
   "cell_type": "code",
   "execution_count": 9,
   "id": "2f79b771",
   "metadata": {},
   "outputs": [
    {
     "name": "stdout",
     "output_type": "stream",
     "text": [
      "List:  [1, 3, 5, 6, 7]\n",
      "Last Three Elements:  [5, 6, 7]\n"
     ]
    }
   ],
   "source": [
    "int_list = [1 , 3 , 5 , 6 , 7]\n",
    "print ('List: ' , int_list)\n",
    "print ('Last Three Elements: ' , int_list[-3:])"
   ]
  },
  {
   "cell_type": "markdown",
   "id": "da7f582e",
   "metadata": {},
   "source": [
    "Slice a list to get every second element.\n"
   ]
  },
  {
   "cell_type": "code",
   "execution_count": 12,
   "id": "4edeea3d",
   "metadata": {},
   "outputs": [
    {
     "name": "stdout",
     "output_type": "stream",
     "text": [
      "List:  [1, 3, 5, 6, 7]\n",
      "Every Second Element:  [3, 6]\n"
     ]
    }
   ],
   "source": [
    "int_list = [1 , 3 , 5 , 6 , 7]\n",
    "print ('List: ' , int_list)\n",
    "print ('Every Second Element: ' , int_list[1::2])"
   ]
  },
  {
   "cell_type": "markdown",
   "id": "011bb9f7",
   "metadata": {},
   "source": [
    "Reverse a list using slicing."
   ]
  },
  {
   "cell_type": "code",
   "execution_count": 13,
   "id": "c11e7110",
   "metadata": {},
   "outputs": [
    {
     "name": "stdout",
     "output_type": "stream",
     "text": [
      "List:  [1, 3, 5, 6, 7]\n",
      "Reverse List:  [7, 6, 5, 3, 1]\n"
     ]
    }
   ],
   "source": [
    "int_list = [1 , 3 , 5 , 6 , 7]\n",
    "print ('List: ' , int_list)\n",
    "int_list = int_list[-1::-1]\n",
    "print ('Reverse List: ' , int_list)"
   ]
  },
  {
   "cell_type": "markdown",
   "id": "5f45b7a8",
   "metadata": {},
   "source": [
    " Create two lists and concatenate them.\n"
   ]
  },
  {
   "cell_type": "code",
   "execution_count": 15,
   "id": "2c210b01",
   "metadata": {},
   "outputs": [
    {
     "name": "stdout",
     "output_type": "stream",
     "text": [
      "List1:  [10, 20, 30, 40]\n",
      "List2:  [50, 60, 70, 80]\n",
      "Concatenated list:  [10, 20, 30, 40, 50, 60, 70, 80]\n"
     ]
    }
   ],
   "source": [
    "list1 = [10 , 20 , 30 , 40]\n",
    "list2 = [50 , 60 , 70 , 80]\n",
    "print ('List1: ' , list1)\n",
    "print ('List2: ' , list2)\n",
    "print ('Concatenated list: ' , list1 + list2)"
   ]
  },
  {
   "cell_type": "markdown",
   "id": "a6c019d7",
   "metadata": {},
   "source": [
    "\n",
    "Repeat a list multiple times using the repetition operator"
   ]
  },
  {
   "cell_type": "code",
   "execution_count": 16,
   "id": "b40d10b9",
   "metadata": {},
   "outputs": [
    {
     "name": "stdout",
     "output_type": "stream",
     "text": [
      "List:  [1, 2, 3]\n",
      "Repeat three times:  [1, 2, 3, 1, 2, 3, 1, 2, 3]\n"
     ]
    }
   ],
   "source": [
    "list1 = [1, 2, 3]\n",
    "print ('List: ' , list1)\n",
    "print('Repeat three times: ' , list1 * 3)"
   ]
  },
  {
   "cell_type": "markdown",
   "id": "0fdf9b21",
   "metadata": {},
   "source": [
    "Add a new element to the end of a list using the append() method.\n"
   ]
  },
  {
   "cell_type": "code",
   "execution_count": 19,
   "id": "86906fc9",
   "metadata": {},
   "outputs": [
    {
     "name": "stdout",
     "output_type": "stream",
     "text": [
      "List:  [1, 2, 3]\n",
      "After Appending:  [1, 2, 3, 5]\n"
     ]
    }
   ],
   "source": [
    "list1 = [1, 2, 3]\n",
    "print ('List: ' , list1)\n",
    "list1.append(5)\n",
    "print ('After Appending: ' , list1)"
   ]
  },
  {
   "cell_type": "markdown",
   "id": "1812e852",
   "metadata": {},
   "source": [
    "\n",
    "Extend a list with elements from another list using the extend() method.\n"
   ]
  },
  {
   "cell_type": "code",
   "execution_count": 20,
   "id": "375a8ac2",
   "metadata": {},
   "outputs": [
    {
     "name": "stdout",
     "output_type": "stream",
     "text": [
      "List:  [1, 2, 3]\n",
      "After Extending:  [1, 2, 3, 4, 5, 6]\n"
     ]
    }
   ],
   "source": [
    "list1 = [1, 2, 3]\n",
    "print ('List: ' , list1)\n",
    "list1.extend([4 , 5 , 6])\n",
    "print ('After Extending: ' , list1)"
   ]
  },
  {
   "cell_type": "markdown",
   "id": "b4285741",
   "metadata": {},
   "source": [
    "Insert an element at a specific index in a list using the insert() method."
   ]
  },
  {
   "cell_type": "code",
   "execution_count": 90,
   "id": "5e5b2a93",
   "metadata": {},
   "outputs": [
    {
     "name": "stdout",
     "output_type": "stream",
     "text": [
      "List:  [1, 2, 3, 6, 8, 12]\n",
      "After inserting at 3 index:  [1, 2, 3, 4, 6, 8, 12]\n"
     ]
    }
   ],
   "source": [
    "list1 = [1, 2, 3 , 6 , 8 , 12]\n",
    "print ('List: ' , list1)\n",
    "list1.insert(3 , 4)\n",
    "print ('After inserting at 3 index: ' , list1)"
   ]
  },
  {
   "cell_type": "markdown",
   "id": "5926ef7b",
   "metadata": {},
   "source": [
    " Remove the last element from a list using the pop() method.\n",
    "\n"
   ]
  },
  {
   "cell_type": "code",
   "execution_count": 24,
   "id": "4e3c8c6d",
   "metadata": {},
   "outputs": [
    {
     "name": "stdout",
     "output_type": "stream",
     "text": [
      "List:  [1, 2, 3, 6, 8, 12]\n",
      "After POP:  [1, 2, 3, 6, 8]\n",
      "Removed Element:  12\n"
     ]
    }
   ],
   "source": [
    "list1 = [1, 2, 3 , 6 , 8 , 12]\n",
    "print ('List: ' , list1)\n",
    "removed_element = list1.pop()\n",
    "print ('After POP: ' , list1)\n",
    "print ('Removed Element: ' , removed_element)"
   ]
  },
  {
   "cell_type": "markdown",
   "id": "34faaad1",
   "metadata": {},
   "source": [
    "Remove a specific element from a list using the remove() method.\n"
   ]
  },
  {
   "cell_type": "code",
   "execution_count": 26,
   "id": "2706c63d",
   "metadata": {},
   "outputs": [
    {
     "name": "stdout",
     "output_type": "stream",
     "text": [
      "List:  [1, 2, 3, 6, 8, 12]\n",
      "After Removing 6:  [1, 2, 3, 8, 12]\n"
     ]
    }
   ],
   "source": [
    "list1 = [1, 2, 3 , 6 , 8 , 12]\n",
    "print ('List: ' , list1)\n",
    "removed_element = list1.remove(6)\n",
    "print ('After Removing 6: ' , list1)"
   ]
  },
  {
   "cell_type": "markdown",
   "id": "b066a57c",
   "metadata": {},
   "source": [
    "Clear all elements from a list.\n"
   ]
  },
  {
   "cell_type": "code",
   "execution_count": 97,
   "id": "a4cb30f8",
   "metadata": {},
   "outputs": [
    {
     "name": "stdout",
     "output_type": "stream",
     "text": [
      "List:  [1, 2, 3, 6, 8, 12]\n",
      "After Deleting:  []\n"
     ]
    }
   ],
   "source": [
    "list1 = [1, 2, 3 , 6 , 8 , 12]\n",
    "print ('List: ' , list1)\n",
    "del list1[:]\n",
    "print ('After Deleting: ' , list1)"
   ]
  },
  {
   "cell_type": "markdown",
   "id": "f9d4754d",
   "metadata": {},
   "source": [
    "Delete an element at a specific index using the del statement."
   ]
  },
  {
   "cell_type": "code",
   "execution_count": 91,
   "id": "adbc06c2",
   "metadata": {},
   "outputs": [
    {
     "name": "stdout",
     "output_type": "stream",
     "text": [
      "List:  [1, 2, 3, 6, 8, 12]\n",
      "After Deleting index 3 value:  [1, 2, 3, 8, 12]\n"
     ]
    }
   ],
   "source": [
    "list1 = [1, 2, 3 , 6 , 8 , 12]\n",
    "print ('List: ' , list1)\n",
    "del list1[3]\n",
    "print ('After Deleting index 3 value: ' , list1)"
   ]
  },
  {
   "cell_type": "markdown",
   "id": "6fda5133",
   "metadata": {},
   "source": [
    "Convert a string to a list of characters and vice-versa."
   ]
  },
  {
   "cell_type": "code",
   "execution_count": 99,
   "id": "7c9fe1dc",
   "metadata": {},
   "outputs": [
    {
     "name": "stdout",
     "output_type": "stream",
     "text": [
      "String:  Punjab is province of Pakistan\n",
      "\n",
      "List:  ['P', 'u', 'n', 'j', 'a', 'b', ' ', 'i', 's', ' ', 'p', 'r', 'o', 'v', 'i', 'n', 'c', 'e', ' ', 'o', 'f', ' ', 'P', 'a', 'k', 'i', 's', 't', 'a', 'n']\n",
      "\n",
      "String2:  Punjab is province of Pakistan\n"
     ]
    }
   ],
   "source": [
    "string = 'Punjab is province of Pakistan'\n",
    "print ('String: ' , string)\n",
    "list1 = list(string)\n",
    "print ('\\nList: ' , list1)\n",
    "delimiter = ''\n",
    "string2 = delimiter.join(list1)\n",
    "print('\\nString2: ' , string2)"
   ]
  },
  {
   "cell_type": "markdown",
   "id": "9a3c1fbd",
   "metadata": {},
   "source": [
    "\n",
    "Sort a list in ascending order using the sort() method."
   ]
  },
  {
   "cell_type": "code",
   "execution_count": 100,
   "id": "749b040c",
   "metadata": {},
   "outputs": [
    {
     "name": "stdout",
     "output_type": "stream",
     "text": [
      "List Before Sorting:  [1, 2, 3, 12, 8, 6]\n",
      "List After Sorting in ascending order :  [1, 2, 3, 6, 8, 12]\n"
     ]
    }
   ],
   "source": [
    "list1 = [1, 2, 3 ,12 , 8 , 6]\n",
    "print ('List Before Sorting: ' , list1)\n",
    "list1.sort()\n",
    "print ('List After Sorting in ascending order : ' , list1)"
   ]
  },
  {
   "cell_type": "code",
   "execution_count": null,
   "id": "8a1c1820",
   "metadata": {},
   "outputs": [],
   "source": [
    "\n",
    "Sort a list in descending order using the sort() method.\n"
   ]
  },
  {
   "cell_type": "code",
   "execution_count": 101,
   "id": "9d3b86b3",
   "metadata": {},
   "outputs": [
    {
     "name": "stdout",
     "output_type": "stream",
     "text": [
      "List Before Sorting:  [1, 2, 3, 12, 8, 6]\n",
      "List After Sorting in descending order:  [12, 8, 6, 3, 2, 1]\n"
     ]
    }
   ],
   "source": [
    "list1 = [1, 2, 3 ,12 , 8 , 6]\n",
    "print ('List Before Sorting: ' , list1)\n",
    "list1.sort(reverse=True)\n",
    "print ('List After Sorting in descending order: ' , list1)"
   ]
  },
  {
   "cell_type": "markdown",
   "id": "04c5419a",
   "metadata": {},
   "source": [
    "Reverse the order of a list using the reverse() method.\n"
   ]
  },
  {
   "cell_type": "code",
   "execution_count": 50,
   "id": "f0eac28f",
   "metadata": {},
   "outputs": [
    {
     "name": "stdout",
     "output_type": "stream",
     "text": [
      "List Before Reverse:  [1, 2, 3, 12, 8, 6]\n",
      "List After Reverse:  [6, 8, 12, 3, 2, 1]\n"
     ]
    }
   ],
   "source": [
    "list1 = [1, 2, 3 ,12 , 8 , 6]\n",
    "print ('List Before Reverse: ' , list1)\n",
    "list1.reverse()\n",
    "print ('List After Reverse: ' , list1)"
   ]
  },
  {
   "cell_type": "markdown",
   "id": "ea816319",
   "metadata": {},
   "source": [
    "Check if an element is present in a list using the in operator.\n"
   ]
  },
  {
   "cell_type": "code",
   "execution_count": 103,
   "id": "db2e8041",
   "metadata": {},
   "outputs": [
    {
     "name": "stdout",
     "output_type": "stream",
     "text": [
      "List:  [1, 2, 3, 12, 8, 6]\n",
      "Enter number to find: 8\n",
      "8 is in the list\n"
     ]
    }
   ],
   "source": [
    "list1 = [1, 2, 3 ,12 , 8 , 6]\n",
    "print ('List: ' , list1)\n",
    "num = int(input('Enter number to find: '))\n",
    "if (num in list1):\n",
    "    print (num , 'is in the list')\n",
    "else:\n",
    "    print (num , 'is not in the list')"
   ]
  },
  {
   "cell_type": "markdown",
   "id": "f17e9e0a",
   "metadata": {},
   "source": [
    "Compare two lists to see if they are equal in both value and identity.\n"
   ]
  },
  {
   "cell_type": "code",
   "execution_count": 93,
   "id": "cc5763b1",
   "metadata": {},
   "outputs": [
    {
     "name": "stdout",
     "output_type": "stream",
     "text": [
      "List1:  [1, 2, 3, 12, 8, 6]\n",
      "List2:  [1, 2, 3, 12, 8, 6]\n",
      "List3 = List1\n",
      "list1 and list2 are equal\n",
      "list1 and list2 are not Identical\n",
      "list1 and list3 are equal\n",
      "list1 and list3 are Identical\n"
     ]
    }
   ],
   "source": [
    "list1 = [1, 2, 3 ,12 , 8 , 6]\n",
    "list2 = [1, 2, 3 ,12 , 8 , 6]\n",
    "list3 = list1\n",
    "\n",
    "\n",
    "print ('List1: ' , list1)\n",
    "print ('List2: ' , list2)\n",
    "print ('List3 = List1')\n",
    "\n",
    "# lists are equal if they have same values and we use \"==\" operator for checking equality of lists\n",
    "\n",
    "isEqual = list1 == list2    # return True if lists are equal otherwise return False\n",
    "if (isEqual):\n",
    "    print ('list1 and list2 are equal')\n",
    "else:\n",
    "    print ('list1 and list2 are not equal')\n",
    "    \n",
    "# lists have same identity if they refer same object and we use \"is\" operator for checking identity of lists\n",
    "isIdentical = list1 is list2  # return True if lists have same identity otherwise return False\n",
    "if (isIdentical):\n",
    "    print ('list1 and list2 are Identical')\n",
    "else:\n",
    "    print ('list1 and list2 are not Identical') \n",
    "\n",
    "    \n",
    "# now for list1 and list3\n",
    "\n",
    "# check equality\n",
    "isEqual = list1 == list3   \n",
    "if (isEqual):\n",
    "    print ('list1 and list3 are equal')\n",
    "else:\n",
    "    print ('list1 and list3 are not equal')\n",
    "\n",
    "# check identity    \n",
    "isIdentical = list1 is list3  \n",
    "if (isIdentical):\n",
    "    print ('list1 and list3 are Identical')\n",
    "else:\n",
    "    print ('list1 and list3 are not Identical') \n",
    "    "
   ]
  },
  {
   "cell_type": "markdown",
   "id": "19d815f3",
   "metadata": {},
   "source": [
    "Create a shallow copy of a list and modify one of the lists to observe the effects on the other.\n"
   ]
  },
  {
   "cell_type": "code",
   "execution_count": 94,
   "id": "92979606",
   "metadata": {},
   "outputs": [
    {
     "name": "stdout",
     "output_type": "stream",
     "text": [
      "List 1:  [1, 2, 3, 12, [8, 6]]\n",
      "List 2:  [100, 2, 3, 12, [8, 6]]\n",
      "\n",
      "List 1:  [1, 200, 3, 12, [8, 6]]\n",
      "List 2:  [100, 2, 3, 12, [8, 6]]\n",
      "\n",
      "List 1:  [1, 200, 3, 12, [500, 6]]\n",
      "List 2:  [100, 2, 3, 12, [500, 6]]\n"
     ]
    }
   ],
   "source": [
    "list1 = [1, 2, 3 ,12 ,[8 , 6]]\n",
    "list2 = list(list1)\n",
    "\n",
    "list2[0] = 100\n",
    "\n",
    "print ('List 1: ' , list1)\n",
    "print ('List 2: ' , list2)\n",
    "\n",
    "list1[1] = 200\n",
    "\n",
    "print ('\\nList 1: ' , list1)\n",
    "print ('List 2: ' , list2)\n",
    "\n",
    "list1[4][0] = 500       # or list2[4][0] = 500\n",
    "\n",
    "print ('\\nList 1: ' , list1)\n",
    "print ('List 2: ' , list2)\n",
    "\n",
    "# When you create a shallow copy of a list, \n",
    "# changes made in one list may reflect in the other\n",
    "# particularly if the elements within the list are mutable otherwise not.\n",
    "\n",
    "# In the above scenario, when the integer value at index 0 is modified in the shallow copy,\n",
    "# it won't impact the original list and vice-versa because integers are immutable objects. \n",
    "# Therefore, changes made to integer values within a shallow copy create a new instance, separate from the original value.\n",
    "# but when we change the value at 4 index both list modified beacuase at 4th index there is a list and that is mutable"
   ]
  },
  {
   "cell_type": "markdown",
   "id": "6c8f1702",
   "metadata": {},
   "source": [
    "Create a deep copy of a nested list and modify one of the lists to observe the effects on the other."
   ]
  },
  {
   "cell_type": "code",
   "execution_count": 76,
   "id": "87a8af6d",
   "metadata": {},
   "outputs": [
    {
     "name": "stdout",
     "output_type": "stream",
     "text": [
      "List 1:  [1, 2, 3, 12, [8, 6]]\n",
      "List 2:  [100, 2, 3, 12, [8, 6]]\n",
      "\n",
      "List 1:  [1, 200, 3, 12, [8, 6]]\n",
      "List 2:  [100, 2, 3, 12, [8, 6]]\n",
      "\n",
      "List 1:  [1, 200, 3, 12, [500, 6]]\n",
      "List 2:  [100, 2, 3, 12, [8, 6]]\n"
     ]
    }
   ],
   "source": [
    "import copy\n",
    "\n",
    "list1 = [1, 2, 3 ,12 ,[8 , 6]]\n",
    "list2 = copy.deepcopy(list1)\n",
    "\n",
    "list2[0] = 100\n",
    "\n",
    "print ('List 1: ' , list1)\n",
    "print ('List 2: ' , list2)\n",
    "\n",
    "list1[1] = 200\n",
    "\n",
    "print ('\\nList 1: ' , list1)\n",
    "print ('List 2: ' , list2)\n",
    "\n",
    "list1[4][0] = 500      \n",
    "\n",
    "print ('\\nList 1: ' , list1)\n",
    "print ('List 2: ' , list2)\n",
    "\n",
    "# When you create a deep copy of a list, \n",
    "# changes made in one list may not reflect in the other\n",
    "# The deep copy is an independent copy of the original list,\n",
    "# maintaining complete separation between the two."
   ]
  },
  {
   "cell_type": "markdown",
   "id": "c52154a0",
   "metadata": {},
   "source": [
    "Pickle and Unpickle a list and display its content."
   ]
  },
  {
   "cell_type": "code",
   "execution_count": 95,
   "id": "2c97aff5",
   "metadata": {},
   "outputs": [
    {
     "name": "stdout",
     "output_type": "stream",
     "text": [
      "Content of the unpickled list: [1, 2, 3, 12, [8, 6]]\n"
     ]
    }
   ],
   "source": [
    "import pickle\n",
    "\n",
    "list1 = [1, 2, 3 ,12 ,[8 , 6]]\n",
    "\n",
    "# Pickling the list\n",
    "with open('list1.pkl', 'wb') as file:\n",
    "    pickle.dump(list1 , file)\n",
    "    \n",
    "# Unpickling the list\n",
    "with open('list1.pkl', 'rb') as file:\n",
    "    unpickled_list = pickle.load(file)\n",
    "\n",
    "print(\"Content of the unpickled list:\", unpickled_list)\n"
   ]
  },
  {
   "cell_type": "code",
   "execution_count": null,
   "id": "9415e114",
   "metadata": {},
   "outputs": [],
   "source": []
  }
 ],
 "metadata": {
  "kernelspec": {
   "display_name": "Python 3 (ipykernel)",
   "language": "python",
   "name": "python3"
  },
  "language_info": {
   "codemirror_mode": {
    "name": "ipython",
    "version": 3
   },
   "file_extension": ".py",
   "mimetype": "text/x-python",
   "name": "python",
   "nbconvert_exporter": "python",
   "pygments_lexer": "ipython3",
   "version": "3.11.5"
  }
 },
 "nbformat": 4,
 "nbformat_minor": 5
}
