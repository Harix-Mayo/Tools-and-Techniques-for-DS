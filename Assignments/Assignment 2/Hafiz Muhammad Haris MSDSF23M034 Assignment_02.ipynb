{
 "cells": [
  {
   "cell_type": "markdown",
   "id": "1776f63f",
   "metadata": {},
   "source": [
    "### Assignment-02\n",
    "- Change the notebook name with your name and Roll Number.\n",
    "- Try this as your own, no chatgpt (it's for your learning)\n",
    "- after completing the assignment, submit this book on google class room."
   ]
  },
  {
   "cell_type": "markdown",
   "id": "5bc28c35",
   "metadata": {},
   "source": [
    "Declare and print a variable with the name \"name\" containing your name.\n"
   ]
  },
  {
   "cell_type": "code",
   "execution_count": 1,
   "id": "4eb1e464",
   "metadata": {},
   "outputs": [
    {
     "name": "stdout",
     "output_type": "stream",
     "text": [
      "Name:  Hafiz Muhammad Haris\n"
     ]
    }
   ],
   "source": [
    "name = \"Hafiz Muhammad Haris\"\n",
    "print ('Name: ' , name)"
   ]
  },
  {
   "cell_type": "markdown",
   "id": "b66e672b",
   "metadata": {},
   "source": [
    "Create two variables, x and y, and swap their values without using a third variable.\n"
   ]
  },
  {
   "cell_type": "code",
   "execution_count": 5,
   "id": "5734b25c",
   "metadata": {},
   "outputs": [
    {
     "name": "stdout",
     "output_type": "stream",
     "text": [
      "x:  2 y:  4\n",
      "x:  4 y:  2\n"
     ]
    }
   ],
   "source": [
    "x = 2 \n",
    "y = 4\n",
    "print ('x: ' , x , 'y: ' , y)\n",
    "x = (x + y)\n",
    "y = x - y\n",
    "x = x - y\n",
    "print ('x: ' , x , 'y: ' , y)"
   ]
  },
  {
   "cell_type": "markdown",
   "id": "68c5f126",
   "metadata": {},
   "source": [
    "Calculate the area of a rectangle with length and width stored in variables.\n"
   ]
  },
  {
   "cell_type": "code",
   "execution_count": 3,
   "id": "efead34a",
   "metadata": {},
   "outputs": [
    {
     "name": "stdout",
     "output_type": "stream",
     "text": [
      "Area of rectangle:  100\n"
     ]
    }
   ],
   "source": [
    "lenght = 20\n",
    "width = 5\n",
    "area = lenght * width\n",
    "print ('Area of rectangle: ' , area)"
   ]
  },
  {
   "cell_type": "markdown",
   "id": "e452ae4d",
   "metadata": {},
   "source": [
    "Create a variable with a long string (multi-line) and print its length."
   ]
  },
  {
   "cell_type": "code",
   "execution_count": 4,
   "id": "0f7d6636",
   "metadata": {},
   "outputs": [
    {
     "name": "stdout",
     "output_type": "stream",
     "text": [
      "Lenght of string:  53\n"
     ]
    }
   ],
   "source": [
    "string = \"\"\"My name is Haris.\n",
    "            I am a student of PUCIT\"\"\"\n",
    "print ('Lenght of string: ' , len(string))"
   ]
  },
  {
   "cell_type": "markdown",
   "id": "708def01",
   "metadata": {},
   "source": [
    "Create a variable to store your favorite number and print it."
   ]
  },
  {
   "cell_type": "code",
   "execution_count": 7,
   "id": "d810e261",
   "metadata": {},
   "outputs": [
    {
     "name": "stdout",
     "output_type": "stream",
     "text": [
      "Enter your favorite number: 345\n",
      "Number:  345\n"
     ]
    }
   ],
   "source": [
    "favVal = int(input(\"Enter your favorite number: \"))\n",
    "print ('Number: ' , favVal)"
   ]
  },
  {
   "cell_type": "markdown",
   "id": "9088a41e",
   "metadata": {},
   "source": [
    "Declare and assign values to multiple variables to represent the sides of a triangle. Calculate and print its perimeter.\n"
   ]
  },
  {
   "cell_type": "code",
   "execution_count": 8,
   "id": "13d9d2d2",
   "metadata": {},
   "outputs": [
    {
     "name": "stdout",
     "output_type": "stream",
     "text": [
      "Enter lenght of side1: 2\n",
      "Enter lenght of side2: 3\n",
      "Enter lenght of side3: 4\n",
      "Perimeter:  9.0\n"
     ]
    }
   ],
   "source": [
    "a = float(input(\"Enter lenght of side1: \"))\n",
    "b = float(input(\"Enter lenght of side2: \"))\n",
    "c = float(input(\"Enter lenght of side3: \"))\n",
    "perimeter = a + b + c\n",
    "print ('Perimeter: ' , perimeter)"
   ]
  },
  {
   "cell_type": "markdown",
   "id": "a76f2d4f",
   "metadata": {},
   "source": [
    "Store the price of an item in one variable and the quantity in another. Calculate and print the total cost.\n"
   ]
  },
  {
   "cell_type": "code",
   "execution_count": 9,
   "id": "8cc9115b",
   "metadata": {},
   "outputs": [
    {
     "name": "stdout",
     "output_type": "stream",
     "text": [
      "Enter price: 2\n",
      "Enter quantity: 3\n",
      "Cost:  6.0\n"
     ]
    }
   ],
   "source": [
    "price = float(input(\"Enter price: \"))\n",
    "quantity = float(input(\"Enter quantity: \"))\n",
    "cost = price * quantity\n",
    "print ('Cost: ' , cost)"
   ]
  },
  {
   "cell_type": "markdown",
   "id": "7d9d0793",
   "metadata": {},
   "source": [
    "Declare a constant variable for the value of pi (π) and use it to calculate the circumference of a circle with a given radius."
   ]
  },
  {
   "cell_type": "code",
   "execution_count": 112,
   "id": "254f3e92",
   "metadata": {},
   "outputs": [
    {
     "name": "stdout",
     "output_type": "stream",
     "text": [
      "Enter cicle radius: -1\n",
      "Radius should be positive and greater than 0\n"
     ]
    }
   ],
   "source": [
    "PI = 3.14\n",
    "radius = float(input('Enter cicle radius: '))\n",
    "if radius > 0:\n",
    "    circumference = 2 * PI * radius\n",
    "    print ('Circumference of cicle: ' , circumference)\n",
    "else:\n",
    "    print ('Radius should be positive and greater than 0')"
   ]
  },
  {
   "cell_type": "markdown",
   "id": "2415eca0",
   "metadata": {},
   "source": [
    "Calculate the sum of two numbers, a and b."
   ]
  },
  {
   "cell_type": "code",
   "execution_count": 113,
   "id": "8eeee19d",
   "metadata": {},
   "outputs": [
    {
     "name": "stdout",
     "output_type": "stream",
     "text": [
      "Enter first number: -2\n",
      "Enter second number: 3\n",
      "Sum:  1.0\n"
     ]
    }
   ],
   "source": [
    "a = float(input('Enter first number: '))\n",
    "b = float(input('Enter second number: '))\n",
    "total = a + b\n",
    "print ('Sum: ' , total)"
   ]
  },
  {
   "cell_type": "markdown",
   "id": "2f3f9653",
   "metadata": {},
   "source": [
    "Calculate the product of two numbers, a and b.\n"
   ]
  },
  {
   "cell_type": "code",
   "execution_count": 11,
   "id": "baac0709",
   "metadata": {},
   "outputs": [
    {
     "name": "stdout",
     "output_type": "stream",
     "text": [
      "Enter first number: 3\n",
      "Enter second number: 4\n",
      "Product:  12.0\n"
     ]
    }
   ],
   "source": [
    "a = float(input('Enter first number: '))\n",
    "b = float(input('Enter second number: '))\n",
    "product = a * b\n",
    "print ('Product: ' , product)"
   ]
  },
  {
   "cell_type": "markdown",
   "id": "263bb83b",
   "metadata": {},
   "source": [
    "Calculate the result of dividing a by b (with proper error handling for division by zero).\n"
   ]
  },
  {
   "cell_type": "code",
   "execution_count": 118,
   "id": "783ef794",
   "metadata": {},
   "outputs": [
    {
     "name": "stdout",
     "output_type": "stream",
     "text": [
      "Enter first number: 0.5\n",
      "Enter second number: 2\n",
      "Quotient:  0.25\n"
     ]
    }
   ],
   "source": [
    "a = float(input('Enter first number: '))\n",
    "b = float(input('Enter second number: '))\n",
    "if b != 0:\n",
    "    print ('Quotient: ' , a / b)\n",
    "else:\n",
    "    print ('Error: dividing by 0')\n"
   ]
  },
  {
   "cell_type": "markdown",
   "id": "1160a016",
   "metadata": {},
   "source": [
    "Calculate the square of a number x."
   ]
  },
  {
   "cell_type": "code",
   "execution_count": 116,
   "id": "ba1443de",
   "metadata": {},
   "outputs": [
    {
     "name": "stdout",
     "output_type": "stream",
     "text": [
      "Enter number: 9\n",
      "Square:  81.0\n"
     ]
    }
   ],
   "source": [
    "x = float(input('Enter number: '))\n",
    "sqr = x * x\n",
    "print ('Square: ' , sqr)\n"
   ]
  },
  {
   "cell_type": "markdown",
   "id": "927cffd3",
   "metadata": {},
   "source": [
    "Calculate the remainder when a is divided by b."
   ]
  },
  {
   "cell_type": "code",
   "execution_count": 86,
   "id": "f95b1e5c",
   "metadata": {},
   "outputs": [
    {
     "name": "stdout",
     "output_type": "stream",
     "text": [
      "Enter first number: 4.7\n",
      "Enter second number: 2\n",
      "Remainder:  0.7000000000000002\n"
     ]
    }
   ],
   "source": [
    "a = float(input('Enter first number: '))\n",
    "b = float(input('Enter second number: '))\n",
    "if b != 0:\n",
    "    print ('Remainder: ' , a % b)\n",
    "else:\n",
    "    print ('Error: dividing by')"
   ]
  },
  {
   "cell_type": "markdown",
   "id": "fad0381a",
   "metadata": {},
   "source": [
    " Calculate the result of dividing 17 by 3 and print the quotient and remainder."
   ]
  },
  {
   "cell_type": "code",
   "execution_count": 27,
   "id": "6bbe2ffb",
   "metadata": {},
   "outputs": [
    {
     "name": "stdout",
     "output_type": "stream",
     "text": [
      "Quotient:  5.666666666666667\n",
      "Remainder:  2\n"
     ]
    }
   ],
   "source": [
    "quotient = 17 / 3\n",
    "remainder = 17 % 3\n",
    "print ('Quotient: ' , quotient)\n",
    "print ('Remainder: ' , remainder)\n"
   ]
  },
  {
   "cell_type": "markdown",
   "id": "0abdb0ba",
   "metadata": {},
   "source": [
    "Calculate the area of a square with a given side length.\n"
   ]
  },
  {
   "cell_type": "code",
   "execution_count": 29,
   "id": "4a0edefb",
   "metadata": {},
   "outputs": [
    {
     "name": "stdout",
     "output_type": "stream",
     "text": [
      "Enetr lenght of side: 4\n",
      "Area of square:  16.0\n"
     ]
    }
   ],
   "source": [
    "sideLenght = float(input('Enetr lenght of side: '))\n",
    "area = sideLenght * sideLenght\n",
    "print ('Area of square: ' , area)"
   ]
  },
  {
   "cell_type": "markdown",
   "id": "0c15704a",
   "metadata": {},
   "source": [
    "Calculate the average of five numbers.\n"
   ]
  },
  {
   "cell_type": "code",
   "execution_count": 30,
   "id": "ae66922d",
   "metadata": {},
   "outputs": [
    {
     "name": "stdout",
     "output_type": "stream",
     "text": [
      "Enter number1: 1\n",
      "Enter number2: 2\n",
      "Enter number3: 3\n",
      "Enter number4: 4\n",
      "Enter number5: 5\n",
      "Average:  3.0\n"
     ]
    }
   ],
   "source": [
    "num1 = float(input('Enter number1: '))\n",
    "num2 = float(input('Enter number2: '))\n",
    "num3 = float(input('Enter number3: '))\n",
    "num4 = float(input('Enter number4: '))\n",
    "num5 = float(input('Enter number5: '))\n",
    "avg = (num1 + num2 + num3 + num4 + num5) / 5\n",
    "print ('Average: ' , avg)"
   ]
  },
  {
   "cell_type": "markdown",
   "id": "da3cde84",
   "metadata": {},
   "source": [
    "Create a variable with a boolean value and print its opposite value.\n"
   ]
  },
  {
   "cell_type": "code",
   "execution_count": 35,
   "id": "0bb430b5",
   "metadata": {},
   "outputs": [
    {
     "name": "stdout",
     "output_type": "stream",
     "text": [
      "Opossite:  False\n"
     ]
    }
   ],
   "source": [
    "boolVar = True\n",
    "print ('Opossite: ' , not boolVar)"
   ]
  },
  {
   "cell_type": "markdown",
   "id": "d800b510",
   "metadata": {},
   "source": [
    "Store your birth year in a variable and calculate your age."
   ]
  },
  {
   "cell_type": "code",
   "execution_count": 119,
   "id": "94ac0a22",
   "metadata": {},
   "outputs": [
    {
     "name": "stdout",
     "output_type": "stream",
     "text": [
      "Age:  29\n"
     ]
    }
   ],
   "source": [
    "birthYear = 1994\n",
    "age = 2023 - birthYear\n",
    "print ('Age: ' , age)"
   ]
  },
  {
   "cell_type": "markdown",
   "id": "193bd0c7",
   "metadata": {},
   "source": [
    "Create a variable with an integer and convert it to a float."
   ]
  },
  {
   "cell_type": "code",
   "execution_count": 37,
   "id": "c862dfa4",
   "metadata": {},
   "outputs": [
    {
     "name": "stdout",
     "output_type": "stream",
     "text": [
      "Enter int number: 3\n",
      "Float version:  3.0\n"
     ]
    }
   ],
   "source": [
    "intVar = int(input('Enter int number: '))\n",
    "intVar = float(intVar)\n",
    "print ('Float version: ' , intVar)"
   ]
  },
  {
   "cell_type": "markdown",
   "id": "d6e985ae",
   "metadata": {},
   "source": [
    "Create a variable with a float and convert it to an integer."
   ]
  },
  {
   "cell_type": "code",
   "execution_count": 39,
   "id": "db782f94",
   "metadata": {},
   "outputs": [
    {
     "name": "stdout",
     "output_type": "stream",
     "text": [
      "Enter float number: 3.7\n",
      "Int version:  3\n"
     ]
    }
   ],
   "source": [
    "floatVar = float(input('Enter float number: '))\n",
    "floatVar = int(intVar)\n",
    "print ('Int version: ' , floatVar)"
   ]
  },
  {
   "cell_type": "markdown",
   "id": "03fbd24c",
   "metadata": {},
   "source": [
    "Create a variable with a string that represents an integer and convert it to an integer."
   ]
  },
  {
   "cell_type": "code",
   "execution_count": 40,
   "id": "15e98a9c",
   "metadata": {},
   "outputs": [
    {
     "name": "stdout",
     "output_type": "stream",
     "text": [
      "String:  234\n",
      "Number:  234\n"
     ]
    }
   ],
   "source": [
    "string = \"234\"\n",
    "number = int(string)\n",
    "\n",
    "print ('String: ' , string)\n",
    "print ('Number: ' , number)"
   ]
  },
  {
   "cell_type": "markdown",
   "id": "7b82ee26",
   "metadata": {},
   "source": [
    "Create a variable with a string that represents a float and convert it to a float.\n"
   ]
  },
  {
   "cell_type": "code",
   "execution_count": 120,
   "id": "31b96ee5",
   "metadata": {},
   "outputs": [
    {
     "name": "stdout",
     "output_type": "stream",
     "text": [
      "String:  234.6\n",
      "Number:  234.6\n"
     ]
    }
   ],
   "source": [
    "string = \"234.6\"\n",
    "number = float(string)\n",
    "\n",
    "print ('String: ' , string)\n",
    "print ('Number: ' , number)"
   ]
  },
  {
   "cell_type": "markdown",
   "id": "55b70302",
   "metadata": {},
   "source": [
    "Create a variable with a number and convert it to a string."
   ]
  },
  {
   "cell_type": "code",
   "execution_count": 44,
   "id": "191ca6c0",
   "metadata": {},
   "outputs": [
    {
     "name": "stdout",
     "output_type": "stream",
     "text": [
      "Number:  1234\n",
      "String:  1234\n"
     ]
    }
   ],
   "source": [
    "number = 1234\n",
    "string = str(number)\n",
    "\n",
    "print ('Number: ' , number)\n",
    "print ('String: ' , string)"
   ]
  },
  {
   "cell_type": "markdown",
   "id": "12030234",
   "metadata": {},
   "source": [
    "Calculate the absolute value of a number.\n",
    "\n"
   ]
  },
  {
   "cell_type": "code",
   "execution_count": 55,
   "id": "e6e2dbb2",
   "metadata": {},
   "outputs": [
    {
     "name": "stdout",
     "output_type": "stream",
     "text": [
      "Enter number: 9\n",
      "Absolute value:  9\n"
     ]
    }
   ],
   "source": [
    "num = int(input('Enter number: '))\n",
    "if num < 0:\n",
    "    absVal = num * -1 \n",
    "    print (\"Absolute value: \" , absVal)\n",
    "else:\n",
    "    print (\"Absolute value: \" , num)"
   ]
  },
  {
   "cell_type": "markdown",
   "id": "0bcb4315",
   "metadata": {},
   "source": [
    "Calculate the square root of a number.\n"
   ]
  },
  {
   "cell_type": "code",
   "execution_count": 78,
   "id": "1ffc86be",
   "metadata": {},
   "outputs": [
    {
     "name": "stdout",
     "output_type": "stream",
     "text": [
      "Enter number: 36\n",
      "Square root:  6.0\n"
     ]
    }
   ],
   "source": [
    "num = int(input('Enter number: '))\n",
    "sqrt = num**0.5\n",
    "print ('Square root: ' , sqrt)"
   ]
  },
  {
   "cell_type": "markdown",
   "id": "3b8743eb",
   "metadata": {},
   "source": [
    "Calculate the value of a raised to the power of b.\n"
   ]
  },
  {
   "cell_type": "code",
   "execution_count": 79,
   "id": "d278563f",
   "metadata": {},
   "outputs": [
    {
     "name": "stdout",
     "output_type": "stream",
     "text": [
      "Enter base: 4\n",
      "Enter power: 3\n",
      "Result:  64\n"
     ]
    }
   ],
   "source": [
    "base = int(input('Enter base: '))\n",
    "power = int(input('Enter power: '))\n",
    "res = 1\n",
    "if power==0:\n",
    "    print ('Result: ' , res)\n",
    "elif power > 0: \n",
    "    while (power > 0):\n",
    "        res = res * base\n",
    "        power -= 1\n",
    "    print ('Result: ' , res)\n",
    "else:\n",
    "    power = power * -1\n",
    "    while (power > 0):\n",
    "        res = res * base\n",
    "        power -= 1\n",
    "    print ('Result: ' , 1 / res)"
   ]
  },
  {
   "cell_type": "code",
   "execution_count": null,
   "id": "41c65c05",
   "metadata": {},
   "outputs": [],
   "source": []
  },
  {
   "cell_type": "markdown",
   "id": "d06e7a77",
   "metadata": {},
   "source": [
    "Round a float to the nearest integer."
   ]
  },
  {
   "cell_type": "code",
   "execution_count": 92,
   "id": "2f5873c3",
   "metadata": {},
   "outputs": [
    {
     "name": "stdout",
     "output_type": "stream",
     "text": [
      "Enter float number: 4.9\n",
      "Nearest integer:  5\n"
     ]
    }
   ],
   "source": [
    "fnum = float(input('Enter float number: '))\n",
    "inum = int(fnum)\n",
    "if fnum % inum >= 0.5:\n",
    "    print ('Nearest integer: ' , inum + 1)\n",
    "else:\n",
    "    print ('Nearest integer: ' , inum)"
   ]
  },
  {
   "cell_type": "markdown",
   "id": "34f33237",
   "metadata": {},
   "source": [
    "Combine multiple conditions using logical operators and print the result."
   ]
  },
  {
   "cell_type": "code",
   "execution_count": 82,
   "id": "687d14b0",
   "metadata": {},
   "outputs": [
    {
     "name": "stdout",
     "output_type": "stream",
     "text": [
      "Result:  True\n"
     ]
    }
   ],
   "source": [
    "print ('Result: ', 2 > 1 and 4 < 5 or 1 > 10 and not True)"
   ]
  },
  {
   "cell_type": "markdown",
   "id": "ab20128b",
   "metadata": {},
   "source": [
    "Generate a random number between 1 and 100.**(challenging)**\n"
   ]
  },
  {
   "cell_type": "code",
   "execution_count": 106,
   "id": "43ac553b",
   "metadata": {},
   "outputs": [
    {
     "name": "stdout",
     "output_type": "stream",
     "text": [
      "Random number between 1 and 100:  38\n"
     ]
    }
   ],
   "source": [
    "import random\n",
    "num = random.randint(1,100)\n",
    "print('Random number between 1 and 100: ' , num)"
   ]
  },
  {
   "cell_type": "code",
   "execution_count": null,
   "id": "08b1a18f",
   "metadata": {},
   "outputs": [],
   "source": []
  },
  {
   "cell_type": "code",
   "execution_count": null,
   "id": "614ec84c",
   "metadata": {},
   "outputs": [],
   "source": []
  }
 ],
 "metadata": {
  "kernelspec": {
   "display_name": "Python 3 (ipykernel)",
   "language": "python",
   "name": "python3"
  },
  "language_info": {
   "codemirror_mode": {
    "name": "ipython",
    "version": 3
   },
   "file_extension": ".py",
   "mimetype": "text/x-python",
   "name": "python",
   "nbconvert_exporter": "python",
   "pygments_lexer": "ipython3",
   "version": "3.11.5"
  }
 },
 "nbformat": 4,
 "nbformat_minor": 5
}
